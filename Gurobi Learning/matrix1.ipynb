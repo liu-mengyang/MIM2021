{
 "cells": [
  {
   "cell_type": "markdown",
   "id": "ef1ea2b1",
   "metadata": {},
   "source": [
    "**This example formulates and solves the following simple MIP model using the matrix API:**\n",
    "\n",
    "maximize\n",
    "\n",
    "    x + y + 2 z\n",
    "    \n",
    "subject to\n",
    "\n",
    "    x + 2 y + 3 z <= 4\n",
    "    \n",
    "    x + y >= 1\n",
    "    \n",
    "    x, y, z binary"
   ]
  },
  {
   "cell_type": "code",
   "execution_count": 3,
   "id": "d2e99700",
   "metadata": {},
   "outputs": [],
   "source": [
    "import gurobipy as gp\n",
    "from gurobipy import GRB\n",
    "import numpy as np\n",
    "import scipy.sparse as sp"
   ]
  },
  {
   "cell_type": "code",
   "execution_count": 8,
   "id": "3e6ba730",
   "metadata": {
    "scrolled": true
   },
   "outputs": [
    {
     "name": "stdout",
     "output_type": "stream",
     "text": [
      "Gurobi Optimizer version 9.1.2 build v9.1.2rc0 (win64)\n",
      "Thread count: 8 physical cores, 16 logical processors, using up to 16 threads\n",
      "Optimize a model with 2 rows, 3 columns and 5 nonzeros\n",
      "Model fingerprint: 0x8d4960d3\n",
      "Variable types: 0 continuous, 3 integer (3 binary)\n",
      "Coefficient statistics:\n",
      "  Matrix range     [1e+00, 3e+00]\n",
      "  Objective range  [1e+00, 2e+00]\n",
      "  Bounds range     [1e+00, 1e+00]\n",
      "  RHS range        [1e+00, 4e+00]\n",
      "Found heuristic solution: objective 2.0000000\n",
      "Presolve removed 2 rows and 3 columns\n",
      "Presolve time: 0.00s\n",
      "Presolve: All rows and columns removed\n",
      "\n",
      "Explored 0 nodes (0 simplex iterations) in 0.00 seconds\n",
      "Thread count was 1 (of 16 available processors)\n",
      "\n",
      "Solution count 2: 3 2 \n",
      "\n",
      "Optimal solution found (tolerance 1.00e-04)\n",
      "Best objective 3.000000000000e+00, best bound 3.000000000000e+00, gap 0.0000%\n",
      "[1. 0. 1.]\n",
      "Obj: 3\n"
     ]
    }
   ],
   "source": [
    "try:\n",
    "    m = gp.Model(\"matrix1\")\n",
    "    \n",
    "    x = m.addMVar(shape=3, vtype=GRB.BINARY, name=\"x\")\n",
    "    \n",
    "    obj = np.array([1.0, 1.0, 2.0])\n",
    "    m.setObjective(obj @ x, GRB.MAXIMIZE)\n",
    "    \n",
    "    val = np.array([1.0, 2.0, 3.0, -1.0, -1.0])\n",
    "    row = np.array([0, 0, 0, 1, 1])\n",
    "    col = np.array([0, 1, 2, 0, 1])\n",
    "    \n",
    "    A = sp.csr_matrix((val, (row, col)), shape=(2, 3))\n",
    "\n",
    "    rhs = np.array([4.0, -1.0])\n",
    "    \n",
    "    m.addConstr(A @ x <= rhs, name=\"c\")\n",
    "    \n",
    "    m.optimize()\n",
    "    \n",
    "    print(x.X)\n",
    "    print('Obj: %g' % m.objVal)\n",
    "\n",
    "except gp.GurobiError as e:\n",
    "    print('Error code ' + str(e.errno) + \": \" + str(e))\n",
    "except AttributeError:\n",
    "    print('Encountered an attribute error')"
   ]
  },
  {
   "cell_type": "code",
   "execution_count": null,
   "id": "12301ffc",
   "metadata": {},
   "outputs": [],
   "source": []
  }
 ],
 "metadata": {
  "kernelspec": {
   "display_name": "Python [conda env:mim]",
   "language": "python",
   "name": "conda-env-mim-py"
  },
  "language_info": {
   "codemirror_mode": {
    "name": "ipython",
    "version": 3
   },
   "file_extension": ".py",
   "mimetype": "text/x-python",
   "name": "python",
   "nbconvert_exporter": "python",
   "pygments_lexer": "ipython3",
   "version": "3.9.6"
  }
 },
 "nbformat": 4,
 "nbformat_minor": 5
}
